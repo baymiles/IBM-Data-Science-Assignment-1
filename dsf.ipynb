{
 "cells": [
  {
   "cell_type": "markdown",
   "metadata": {},
   "source": [
    "# Data Science Fundamentals"
   ]
  },
  {
   "cell_type": "markdown",
   "metadata": {},
   "source": [
    "## Introduction\n",
    "This notebook is designed to showcase fundamental skills in data science, including basic programming, data manipulation, and visualization using popular data science tools and libraries."
   ]
  },
  {
   "cell_type": "markdown",
   "metadata": {},
   "source": [
    "## Data Science Languages\n",
    "- Python\n",
    "- R\n",
    "- SQL\n",
    "- Julia\n",
    "- Scala"
   ]
  },
  {
   "cell_type": "markdown",
   "metadata": {},
   "source": [
    "## Data Science Libraries\n",
    "- Pandas (data manipulation)\n",
    "- NumPy (numerical data processing)\n",
    "- Matplotlib (data visualization)\n",
    "- Scikit-learn (machine learning)\n",
    "- TensorFlow (deep learning)"
   ]
  },
  {
   "cell_type": "markdown",
   "metadata": {},
   "source": [
    "## Data Science Tools\n",
    "| Tool           | Use Case                                     |\n",
    "| -------------- | -------------------------------------------- |\n",
    "| Jupyter        | Interactive notebooks for coding and documentation |\n",
    "| GitHub         | Version control and collaboration            |\n",
    "| Tableau        | Business intelligence and data visualization |\n",
    "| SQL databases  | Data storage and complex querying            |\n",
    "| Apache Spark   | Large-scale data processing                  |"
   ]
  },
  {
   "cell_type": "markdown",
   "metadata": {},
   "source": [
    "## Arithmetic Expressions in Python\n",
    "In Python, we can perform basic arithmetic operations like addition (`+`), subtraction (`-`), multiplication (`*`), and division (`/`). Below are some examples of these operations."
   ]
  },
  {
   "cell_type": "code",
   "execution_count": 3,
   "metadata": {},
   "outputs": [
    {
     "name": "stdout",
     "output_type": "stream",
     "text": [
      "Multiplication Result: 42\n",
      "Addition Result: 23\n"
     ]
    }
   ],
   "source": [
    "# Example of multiplication and addition\n",
    "\n",
    "result_multiplication = 7 * 6\n",
    "result_addition = 8 + 15\n",
    "\n",
    "print(\"Multiplication Result:\", result_multiplication)\n",
    "print(\"Addition Result:\", result_addition)"
   ]
  },
  {
   "cell_type": "code",
   "execution_count": 4,
   "metadata": {},
   "outputs": [
    {
     "name": "stdout",
     "output_type": "stream",
     "text": [
      "90 minutes is equivalent to 1.5 hours\n"
     ]
    }
   ],
   "source": [
    "# Convert minutes to hours\n",
    "\n",
    "minutes = 90\n",
    "hours = minutes / 60\n",
    "print(f\"{minutes} minutes is equivalent to {hours} hours\")"
   ]
  },
  {
   "cell_type": "markdown",
   "metadata": {},
   "source": [
    "## Objectives\n",
    "This notebook aims to:\n",
    "1. Demonstrate the use of basic arithmetic in Python.\n",
    "2. Introduce popular data science libraries and their applications.\n",
    "3. Show how to create and format markdown cells and code cells in Jupyterlite."
   ]
  },
  {
   "cell_type": "markdown",
   "metadata": {},
   "source": [
    "## Author\n",
    "Tejwardhan Patil"
   ]
  },
  {
   "cell_type": "markdown",
   "metadata": {},
   "source": [
    "## Notebook Link\n",
    "[View my Jupyterlite Notebook on GitHub](https://github.com/baymiles/IBM-Data-Science-Assignment-1/blob/main/dsf.ipynb)"
   ]
  }
 ],
 "metadata": {
  "kernelspec": {
   "display_name": "Python 3",
   "language": "python",
   "name": "python3"
  },
  "language_info": {
   "codemirror_mode": {
    "name": "ipython",
    "version": 3
   },
   "file_extension": ".py",
   "mimetype": "text/x-python",
   "name": "python",
   "nbconvert_exporter": "python",
   "pygments_lexer": "ipython3",
   "version": "3.12.4"
  }
 },
 "nbformat": 4,
 "nbformat_minor": 2
}
